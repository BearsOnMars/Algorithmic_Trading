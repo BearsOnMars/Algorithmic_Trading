{
 "cells": [
  {
   "cell_type": "markdown",
   "id": "09c3a07f",
   "metadata": {},
   "source": [
    "# Using the SMA Backtester Class\n",
    "1. SMA Backtester class would allow to test many moving average crossover strategies using just a few lines of code\n",
    "2. We aim to test strategies on different instruments (in this case 3 forex pairs) and change timeperiods and rolling windows\n",
    "3. It is imperative that the backtester class file is saved as .py and saved in the same folder as the file it is being imported to\n",
    "4. We are creating a class for Vectorised Backtesting of SMA Crossover strategies\n",
    "5. SMA backtester class imports data from the csv file\n",
    "6. First step is the creation of an SMA backtester object\n",
    "7. Backtesting and Forward Testing\n",
    "    * Since we have fitted our parameters/strategy to past data, so that's no guarantee that our strategy will outperform in future as well\n",
    "    * That is why we need to perform an OUT-SAMPLE TEST aka FORWARD TEST to test the parameters on new/fresh data\n",
    "    * This is done by splitting the dataset into two: Training Period and Testing Period\n",
    "    * It is very likely that a strategy does not deliver the same high performance in out-sample test as it did in backtest\n",
    "    "
   ]
  },
  {
   "cell_type": "code",
   "execution_count": 1,
   "id": "8f62f7a7",
   "metadata": {},
   "outputs": [],
   "source": [
    "# Importing necessary libraries\n",
    "\n",
    "import pandas as pd\n",
    "import numpy as np\n",
    "import matplotlib.pyplot as plt\n",
    "from itertools import product\n",
    "plt.style.use('seaborn')"
   ]
  },
  {
   "cell_type": "markdown",
   "id": "8e5c4c8e",
   "metadata": {},
   "source": [
    "# Building the SMA Backtester Class: Instantiation"
   ]
  },
  {
   "cell_type": "code",
   "execution_count": 2,
   "id": "84ba665c",
   "metadata": {},
   "outputs": [],
   "source": [
    "# Naming our class as SMABacktester\n",
    "# using the dunder init method and assigning some properties to our class after instantiation\n",
    "# The very first object is always self\n",
    "# We have five properties we wish to add: ticker symbol, short SMA period, long SMA period, start date and end date\n",
    "\n",
    "class SMABacktester():\n",
    "    \n",
    "    def __init__(self, symbol, SMA_S, SMA_L, start, end): # the properties we wish to add. Don't forget self!\n",
    "        self.symbol = symbol # defining initial attributes which were passed above during instantiation\n",
    "        self.SMA_S = SMA_S\n",
    "        self.SMA_L = SMA_L\n",
    "        self.start = start\n",
    "        self.end = end\n",
    "        self.results = None # We can add result attribute here, pass None through it. It can be modified later in a method"
   ]
  },
  {
   "cell_type": "markdown",
   "id": "c0ef3eec",
   "metadata": {},
   "source": [
    "# Method get_data()\n",
    "1. Before we can test an SMA strategy we need to retrieve price data and calculate returns of SMAs over time\n",
    "2. The Steps are as follows\n",
    "    * Import Dataset: Create a connect to the data source. The data can be in a csv file, or an SQL Database, or we can directly link the method to a brokerage platform like Oanda/FXCM. Here we import data from csv file\n",
    "    * Select the instrument on which the strategy needs to be tested. \n",
    "    * Convert the resulting pandas series to a dataframe and dropna values\n",
    "    * Set a time period\n",
    "    * Clean up the data\n",
    "    * Calculate and Create a log returns column\n",
    "    * Create a Shorter SMA and a longer SMA column"
   ]
  },
  {
   "cell_type": "code",
   "execution_count": 3,
   "id": "b9209161",
   "metadata": {},
   "outputs": [],
   "source": [
    "# Adding the get_data() method\n",
    "# if we run get_data() in dunder init method, it will be called during instantiating object\n",
    "\n",
    "class SMABacktester():\n",
    "    \n",
    "    def __init__(self, symbol, SMA_S, SMA_L, start, end):\n",
    "        self.symbol = symbol\n",
    "        self.SMA_S = SMA_S\n",
    "        self.SMA_L = SMA_L\n",
    "        self.start = start\n",
    "        self.end = end\n",
    "        self.results = None\n",
    "        self.get_data() # running get_data() in dunder init method\n",
    "        \n",
    "        \n",
    "    def get_data(self): # We only have one parameter here, self\n",
    "        raw = pd.read_csv('forex_pairs.csv', parse_dates = ['Date'], index_col = 'Date')\n",
    "        # retrieving data from csv file and saving it to a raw dataframe\n",
    "        raw = raw[self.symbol].to_frame().dropna()\n",
    "        # selecting the desired symbol, converting pandas series into a dataframe and dropping na values\n",
    "        raw = raw.loc[self.start : self.end].copy()\n",
    "        # setting the time period we need to analyse and overwriting the raw dataframe\n",
    "        raw.rename(columns = {self.symbol : 'price'}, inplace = True)\n",
    "        # cleaning the data by renaming columns\n",
    "        raw['returns'] = np.log(raw / raw.shift(1))\n",
    "        # creating a log returns column in the dataframe\n",
    "        raw['SMA_S'] = raw['price'].rolling(self.SMA_S).mean()\n",
    "        raw['SMA_L'] = raw['price'].rolling(self.SMA_L).mean()\n",
    "        # Adding the SMA_S and SMA_L columns\n",
    "        self.data = raw\n",
    "        # storing the raw dataframe in a new attribute data\n",
    "        return raw"
   ]
  },
  {
   "cell_type": "code",
   "execution_count": 4,
   "id": "147454f3",
   "metadata": {},
   "outputs": [],
   "source": [
    "# creating an instance tester\n",
    "tester = SMABacktester('AUDEUR=X', 50, 200, '2010-01-01', '2019-12-31')"
   ]
  },
  {
   "cell_type": "code",
   "execution_count": 5,
   "id": "f082dd7a",
   "metadata": {},
   "outputs": [
    {
     "data": {
      "text/html": [
       "<div>\n",
       "<style scoped>\n",
       "    .dataframe tbody tr th:only-of-type {\n",
       "        vertical-align: middle;\n",
       "    }\n",
       "\n",
       "    .dataframe tbody tr th {\n",
       "        vertical-align: top;\n",
       "    }\n",
       "\n",
       "    .dataframe thead th {\n",
       "        text-align: right;\n",
       "    }\n",
       "</style>\n",
       "<table border=\"1\" class=\"dataframe\">\n",
       "  <thead>\n",
       "    <tr style=\"text-align: right;\">\n",
       "      <th></th>\n",
       "      <th>price</th>\n",
       "      <th>returns</th>\n",
       "      <th>SMA_S</th>\n",
       "      <th>SMA_L</th>\n",
       "    </tr>\n",
       "    <tr>\n",
       "      <th>Date</th>\n",
       "      <th></th>\n",
       "      <th></th>\n",
       "      <th></th>\n",
       "      <th></th>\n",
       "    </tr>\n",
       "  </thead>\n",
       "  <tbody>\n",
       "    <tr>\n",
       "      <th>2010-01-01</th>\n",
       "      <td>0.62402</td>\n",
       "      <td>NaN</td>\n",
       "      <td>NaN</td>\n",
       "      <td>NaN</td>\n",
       "    </tr>\n",
       "    <tr>\n",
       "      <th>2010-01-04</th>\n",
       "      <td>0.63230</td>\n",
       "      <td>0.013182</td>\n",
       "      <td>NaN</td>\n",
       "      <td>NaN</td>\n",
       "    </tr>\n",
       "    <tr>\n",
       "      <th>2010-01-05</th>\n",
       "      <td>0.63430</td>\n",
       "      <td>0.003158</td>\n",
       "      <td>NaN</td>\n",
       "      <td>NaN</td>\n",
       "    </tr>\n",
       "    <tr>\n",
       "      <th>2010-01-06</th>\n",
       "      <td>0.63860</td>\n",
       "      <td>0.006756</td>\n",
       "      <td>NaN</td>\n",
       "      <td>NaN</td>\n",
       "    </tr>\n",
       "    <tr>\n",
       "      <th>2010-01-07</th>\n",
       "      <td>0.64060</td>\n",
       "      <td>0.003127</td>\n",
       "      <td>NaN</td>\n",
       "      <td>NaN</td>\n",
       "    </tr>\n",
       "  </tbody>\n",
       "</table>\n",
       "</div>"
      ],
      "text/plain": [
       "              price   returns  SMA_S  SMA_L\n",
       "Date                                       \n",
       "2010-01-01  0.62402       NaN    NaN    NaN\n",
       "2010-01-04  0.63230  0.013182    NaN    NaN\n",
       "2010-01-05  0.63430  0.003158    NaN    NaN\n",
       "2010-01-06  0.63860  0.006756    NaN    NaN\n",
       "2010-01-07  0.64060  0.003127    NaN    NaN"
      ]
     },
     "execution_count": 5,
     "metadata": {},
     "output_type": "execute_result"
    }
   ],
   "source": [
    "# since we have added the object get_data() in dunder init method, we can directly get data here\n",
    "tester.data.head()"
   ]
  },
  {
   "cell_type": "code",
   "execution_count": 6,
   "id": "452fc63a",
   "metadata": {},
   "outputs": [
    {
     "data": {
      "text/html": [
       "<div>\n",
       "<style scoped>\n",
       "    .dataframe tbody tr th:only-of-type {\n",
       "        vertical-align: middle;\n",
       "    }\n",
       "\n",
       "    .dataframe tbody tr th {\n",
       "        vertical-align: top;\n",
       "    }\n",
       "\n",
       "    .dataframe thead th {\n",
       "        text-align: right;\n",
       "    }\n",
       "</style>\n",
       "<table border=\"1\" class=\"dataframe\">\n",
       "  <thead>\n",
       "    <tr style=\"text-align: right;\">\n",
       "      <th></th>\n",
       "      <th>price</th>\n",
       "      <th>returns</th>\n",
       "      <th>SMA_S</th>\n",
       "      <th>SMA_L</th>\n",
       "    </tr>\n",
       "    <tr>\n",
       "      <th>Date</th>\n",
       "      <th></th>\n",
       "      <th></th>\n",
       "      <th></th>\n",
       "      <th></th>\n",
       "    </tr>\n",
       "  </thead>\n",
       "  <tbody>\n",
       "    <tr>\n",
       "      <th>2019-12-25</th>\n",
       "      <td>0.62410</td>\n",
       "      <td>-0.000240</td>\n",
       "      <td>0.617223</td>\n",
       "      <td>0.619946</td>\n",
       "    </tr>\n",
       "    <tr>\n",
       "      <th>2019-12-26</th>\n",
       "      <td>0.62380</td>\n",
       "      <td>-0.000481</td>\n",
       "      <td>0.617499</td>\n",
       "      <td>0.619907</td>\n",
       "    </tr>\n",
       "    <tr>\n",
       "      <th>2019-12-27</th>\n",
       "      <td>0.62550</td>\n",
       "      <td>0.002722</td>\n",
       "      <td>0.617745</td>\n",
       "      <td>0.619901</td>\n",
       "    </tr>\n",
       "    <tr>\n",
       "      <th>2019-12-30</th>\n",
       "      <td>0.62441</td>\n",
       "      <td>-0.001744</td>\n",
       "      <td>0.617958</td>\n",
       "      <td>0.619868</td>\n",
       "    </tr>\n",
       "    <tr>\n",
       "      <th>2019-12-31</th>\n",
       "      <td>0.62493</td>\n",
       "      <td>0.000833</td>\n",
       "      <td>0.618139</td>\n",
       "      <td>0.619838</td>\n",
       "    </tr>\n",
       "  </tbody>\n",
       "</table>\n",
       "</div>"
      ],
      "text/plain": [
       "              price   returns     SMA_S     SMA_L\n",
       "Date                                             \n",
       "2019-12-25  0.62410 -0.000240  0.617223  0.619946\n",
       "2019-12-26  0.62380 -0.000481  0.617499  0.619907\n",
       "2019-12-27  0.62550  0.002722  0.617745  0.619901\n",
       "2019-12-30  0.62441 -0.001744  0.617958  0.619868\n",
       "2019-12-31  0.62493  0.000833  0.618139  0.619838"
      ]
     },
     "execution_count": 6,
     "metadata": {},
     "output_type": "execute_result"
    }
   ],
   "source": [
    "# Checking if get_data() method works\n",
    "tester.get_data().tail()"
   ]
  },
  {
   "cell_type": "markdown",
   "id": "cf782196",
   "metadata": {},
   "source": [
    "# Setting new SMA Parameters\n",
    "1. Our SMABacktester class should allow us to set new SMA parameters to test other SMA strategies with different periods\n",
    "2. We also need to able to find optimal strategy with brute force algorithm, that tests all possible combinations of SMA_S and SMA_L\n",
    "3. Here the concept of ENCAPSULATION is introduced\n",
    "    * When overwriting attributes, it is possible the changes are not updated automatically everywhere in related objects\n",
    "    * Encapsulation recommends creating protected or private properties to avoid such situations\n",
    "    * If we want to allow setting new values, we should use the set() method\n",
    "    * In this case we would need to transform SMA_S and SMA_L as protected properties   \n",
    "4. We can also add arguments to set new symbol or new start and end date paramters"
   ]
  },
  {
   "cell_type": "code",
   "execution_count": 7,
   "id": "0cd1305d",
   "metadata": {},
   "outputs": [],
   "source": [
    "# Setting new SMA parameters\n",
    "\n",
    "class SMABacktester():\n",
    "    \n",
    "    def __init__(self, symbol, SMA_S, SMA_L, start, end):\n",
    "        self.symbol = symbol\n",
    "        self.SMA_S = SMA_S\n",
    "        self.SMA_L = SMA_L\n",
    "        self.start = start\n",
    "        self.end = end\n",
    "        self.results = None\n",
    "        self.get_data() \n",
    "        \n",
    "        \n",
    "    def get_data(self):\n",
    "        raw = pd.read_csv('forex_pairs.csv', parse_dates = ['Date'], index_col = 'Date')\n",
    "        raw = raw[self.symbol].to_frame().dropna()\n",
    "        raw = raw.loc[self.start : self.end].copy()\n",
    "        raw.rename(columns = {self.symbol : 'price'}, inplace = True)\n",
    "        raw['returns'] = np.log(raw / raw.shift(1))\n",
    "        raw['SMA_S'] = raw['price'].rolling(self.SMA_S).mean()\n",
    "        raw['SMA_L'] = raw['price'].rolling(self.SMA_L).mean()\n",
    "        self.data = raw\n",
    "        return raw\n",
    "    \n",
    "    def set_parameters(self, SMA_S = None, SMA_L = None):\n",
    "        # as always, first parameter is self, and default is set as None for SMA_S and SMA_L\n",
    "        if SMA_S is not None:\n",
    "            self.SMA_S = SMA_S \n",
    "            self.data['SMA_S'] = self.data['price'].rolling(self.SMA_S).mean() # recalculating new SMA_S values\n",
    "            # If a new value is passed for SMA_S then the value and the dataframe column, both are updated\n",
    "        if SMA_L is not None:\n",
    "            self.SMA_L = SMA_L\n",
    "            self.data['SMA_L'] = self.data['price'].rolling(self.SMA_L).mean() # recalculating new SMA_L values\n",
    "            # If a new value is passed for SMA_L then the value and the dataframe column, both are updated"
   ]
  },
  {
   "cell_type": "code",
   "execution_count": 8,
   "id": "7e23f745",
   "metadata": {},
   "outputs": [],
   "source": [
    "# creating a tester object to check functionality\n",
    "tester = SMABacktester ('AUDEUR=X', 50, 200, '2010-01-01', '2019-12-31')"
   ]
  },
  {
   "cell_type": "code",
   "execution_count": 9,
   "id": "3cb5ae92",
   "metadata": {},
   "outputs": [
    {
     "data": {
      "text/plain": [
       "price        0\n",
       "returns      1\n",
       "SMA_S       49\n",
       "SMA_L      199\n",
       "dtype: int64"
      ]
     },
     "execution_count": 9,
     "metadata": {},
     "output_type": "execute_result"
    }
   ],
   "source": [
    "# Checking the number of missing values in a dataframe\n",
    "# We should have 49 missing values for SMA_S, and 199 missing values for SMA_L\n",
    "tester.data.isna().sum()"
   ]
  },
  {
   "cell_type": "code",
   "execution_count": 10,
   "id": "ce726c8f",
   "metadata": {},
   "outputs": [],
   "source": [
    "# Setting new SMA_S and SMA_L parameters\n",
    "tester.set_parameters(SMA_S = 25, SMA_L = 150)"
   ]
  },
  {
   "cell_type": "code",
   "execution_count": 11,
   "id": "752ed347",
   "metadata": {},
   "outputs": [
    {
     "data": {
      "text/plain": [
       "25"
      ]
     },
     "execution_count": 11,
     "metadata": {},
     "output_type": "execute_result"
    }
   ],
   "source": [
    "# Checking if the attributes have been updated or not\n",
    "tester.SMA_S"
   ]
  },
  {
   "cell_type": "code",
   "execution_count": 12,
   "id": "ddb07398",
   "metadata": {},
   "outputs": [
    {
     "data": {
      "text/plain": [
       "price        0\n",
       "returns      1\n",
       "SMA_S       24\n",
       "SMA_L      149\n",
       "dtype: int64"
      ]
     },
     "execution_count": 12,
     "metadata": {},
     "output_type": "execute_result"
    }
   ],
   "source": [
    "# Checking the new number of missing values in our dataframe\n",
    "tester.data.isna().sum()"
   ]
  },
  {
   "cell_type": "code",
   "execution_count": 13,
   "id": "48194153",
   "metadata": {},
   "outputs": [],
   "source": [
    "# it turns out that our set_parameter() method has updated SMA_S and SMA_L values everywhere"
   ]
  },
  {
   "cell_type": "markdown",
   "id": "1f6e84e2",
   "metadata": {},
   "source": [
    "# Testing a Strategy and returning Performance Metrics\n",
    "1. This is where we define when to take positions and calculate daily strategy returns\n",
    "2. We create new columns containing cumulative buy and hold returns and strategy returns\n",
    "2. We also calculate metrics on absolute performance and outperformance relative to buy and hold strategy"
   ]
  },
  {
   "cell_type": "code",
   "execution_count": 14,
   "id": "e6aca400",
   "metadata": {},
   "outputs": [],
   "source": [
    "# Defining our test_strategy method\n",
    "\n",
    "class SMABacktester():\n",
    "    \n",
    "    def __init__(self, symbol, SMA_S, SMA_L, start, end):\n",
    "        self.symbol = symbol\n",
    "        self.SMA_S = SMA_S\n",
    "        self.SMA_L = SMA_L\n",
    "        self.start = start\n",
    "        self.end = end\n",
    "        self.results = None\n",
    "        self.get_data() \n",
    "        \n",
    "        \n",
    "    def get_data(self):\n",
    "        raw = pd.read_csv('forex_pairs.csv', parse_dates = ['Date'], index_col = 'Date')\n",
    "        raw = raw[self.symbol].to_frame().dropna()\n",
    "        raw = raw.loc[self.start : self.end].copy()\n",
    "        raw.rename(columns = {self.symbol : 'price'}, inplace = True)\n",
    "        raw['returns'] = np.log(raw / raw.shift(1))\n",
    "        raw['SMA_S'] = raw['price'].rolling(self.SMA_S).mean()\n",
    "        raw['SMA_L'] = raw['price'].rolling(self.SMA_L).mean()\n",
    "        self.data = raw\n",
    "        return raw\n",
    "    \n",
    "    \n",
    "    def set_parameters(self, SMA_S = None, SMA_L = None):\n",
    "        if SMA_S is not None:\n",
    "            self.SMA_S = SMA_S \n",
    "            self.data['SMA_S'] = self.data['price'].rolling(self.SMA_S).mean() \n",
    "        if SMA_L is not None:\n",
    "            self.SMA_L = SMA_L\n",
    "            self.data['SMA_L'] = self.data['price'].rolling(self.SMA_L).mean()\n",
    "            \n",
    "           \n",
    "    def test_strategy(self): # No arguments other than self to pass here\n",
    "        data = self.data.copy().dropna()\n",
    "        # dataframe stored in self.data is selcted. a copy is created to avoid overwriting on self.data. NA values \n",
    "        # are removed. new dataframe is saved in variable data\n",
    "        data['position'] = np.where(data['SMA_S'] > data['SMA_L'], 1, -1)\n",
    "        # a new column for position. if SMA_S larger than SMA_L, next day's position should be +1; or else -1(short)\n",
    "        data['strategy'] = data['position'].shift(1) * data['returns']\n",
    "        # a new column for strategy. we shift the values in position column 1 place down and multiply it with daily returns\n",
    "        data.dropna(inplace = True)\n",
    "        # dropping first rows with missing value\n",
    "        data['creturns'] = data['returns'].cumsum().apply(np.exp)\n",
    "        # calculating cumulative returns of buy and hold. Value of $1 if bought and held till end of period\n",
    "        data['cstrategy'] = data['strategy'].cumsum().apply(np.exp)\n",
    "        # calculating cumulative returns of our strategy. Value of $1 if invested in our SMA strategy\n",
    "        self.results = data\n",
    "        # storing new dataframe in attribute results. results was set to None in dunder init method\n",
    "        \n",
    "        perf = data['cstrategy'].iloc[-1] \n",
    "        # absolute performance: Evolution of $1 over time. The last element in cstrategy column\n",
    "        outperf = perf - data['creturns'].iloc[-1] \n",
    "        # outperformance: subtracting last element in cstrategy with last element in creturns\n",
    "        return round(perf, 6), round(outperf,6)\n",
    "        # rounding off to 6 decimals"
   ]
  },
  {
   "cell_type": "code",
   "execution_count": 15,
   "id": "1a24dea5",
   "metadata": {},
   "outputs": [],
   "source": [
    "# creating an instance of the class to see if test_strategy() method works\n",
    "tester = SMABacktester('EURUSD=X', 50, 200, '2004-01-01', '2020-06-30')"
   ]
  },
  {
   "cell_type": "code",
   "execution_count": 16,
   "id": "949f6f79",
   "metadata": {},
   "outputs": [
    {
     "data": {
      "text/plain": [
       "(1.2835, 0.367674)"
      ]
     },
     "execution_count": 16,
     "metadata": {},
     "output_type": "execute_result"
    }
   ],
   "source": [
    "# testing our strategy by calling method test_strategy()\n",
    "tester.test_strategy()"
   ]
  },
  {
   "cell_type": "code",
   "execution_count": 17,
   "id": "deae1c90",
   "metadata": {},
   "outputs": [],
   "source": [
    "# It might be better to label the results as Absolute performance and Overperformance by using print instead of return\n",
    "# in the last line of method test_strategy()"
   ]
  },
  {
   "cell_type": "code",
   "execution_count": 18,
   "id": "fa653a77",
   "metadata": {},
   "outputs": [
    {
     "data": {
      "text/html": [
       "<div>\n",
       "<style scoped>\n",
       "    .dataframe tbody tr th:only-of-type {\n",
       "        vertical-align: middle;\n",
       "    }\n",
       "\n",
       "    .dataframe tbody tr th {\n",
       "        vertical-align: top;\n",
       "    }\n",
       "\n",
       "    .dataframe thead th {\n",
       "        text-align: right;\n",
       "    }\n",
       "</style>\n",
       "<table border=\"1\" class=\"dataframe\">\n",
       "  <thead>\n",
       "    <tr style=\"text-align: right;\">\n",
       "      <th></th>\n",
       "      <th>price</th>\n",
       "      <th>returns</th>\n",
       "      <th>SMA_S</th>\n",
       "      <th>SMA_L</th>\n",
       "    </tr>\n",
       "    <tr>\n",
       "      <th>Date</th>\n",
       "      <th></th>\n",
       "      <th></th>\n",
       "      <th></th>\n",
       "      <th></th>\n",
       "    </tr>\n",
       "  </thead>\n",
       "  <tbody>\n",
       "    <tr>\n",
       "      <th>2004-01-01</th>\n",
       "      <td>1.258194</td>\n",
       "      <td>NaN</td>\n",
       "      <td>NaN</td>\n",
       "      <td>NaN</td>\n",
       "    </tr>\n",
       "    <tr>\n",
       "      <th>2004-01-02</th>\n",
       "      <td>1.258194</td>\n",
       "      <td>0.000000</td>\n",
       "      <td>NaN</td>\n",
       "      <td>NaN</td>\n",
       "    </tr>\n",
       "    <tr>\n",
       "      <th>2004-01-05</th>\n",
       "      <td>1.268698</td>\n",
       "      <td>0.008313</td>\n",
       "      <td>NaN</td>\n",
       "      <td>NaN</td>\n",
       "    </tr>\n",
       "    <tr>\n",
       "      <th>2004-01-06</th>\n",
       "      <td>1.272103</td>\n",
       "      <td>0.002681</td>\n",
       "      <td>NaN</td>\n",
       "      <td>NaN</td>\n",
       "    </tr>\n",
       "    <tr>\n",
       "      <th>2004-01-07</th>\n",
       "      <td>1.264095</td>\n",
       "      <td>-0.006315</td>\n",
       "      <td>NaN</td>\n",
       "      <td>NaN</td>\n",
       "    </tr>\n",
       "  </tbody>\n",
       "</table>\n",
       "</div>"
      ],
      "text/plain": [
       "               price   returns  SMA_S  SMA_L\n",
       "Date                                        \n",
       "2004-01-01  1.258194       NaN    NaN    NaN\n",
       "2004-01-02  1.258194  0.000000    NaN    NaN\n",
       "2004-01-05  1.268698  0.008313    NaN    NaN\n",
       "2004-01-06  1.272103  0.002681    NaN    NaN\n",
       "2004-01-07  1.264095 -0.006315    NaN    NaN"
      ]
     },
     "execution_count": 18,
     "metadata": {},
     "output_type": "execute_result"
    }
   ],
   "source": [
    "# test_strategy() method keeps the raw data untouched\n",
    "tester.data.head()"
   ]
  },
  {
   "cell_type": "code",
   "execution_count": 19,
   "id": "a87c87c6",
   "metadata": {},
   "outputs": [
    {
     "data": {
      "text/html": [
       "<div>\n",
       "<style scoped>\n",
       "    .dataframe tbody tr th:only-of-type {\n",
       "        vertical-align: middle;\n",
       "    }\n",
       "\n",
       "    .dataframe tbody tr th {\n",
       "        vertical-align: top;\n",
       "    }\n",
       "\n",
       "    .dataframe thead th {\n",
       "        text-align: right;\n",
       "    }\n",
       "</style>\n",
       "<table border=\"1\" class=\"dataframe\">\n",
       "  <thead>\n",
       "    <tr style=\"text-align: right;\">\n",
       "      <th></th>\n",
       "      <th>price</th>\n",
       "      <th>returns</th>\n",
       "      <th>SMA_S</th>\n",
       "      <th>SMA_L</th>\n",
       "      <th>position</th>\n",
       "      <th>strategy</th>\n",
       "      <th>creturns</th>\n",
       "      <th>cstrategy</th>\n",
       "    </tr>\n",
       "    <tr>\n",
       "      <th>Date</th>\n",
       "      <th></th>\n",
       "      <th></th>\n",
       "      <th></th>\n",
       "      <th></th>\n",
       "      <th></th>\n",
       "      <th></th>\n",
       "      <th></th>\n",
       "      <th></th>\n",
       "    </tr>\n",
       "  </thead>\n",
       "  <tbody>\n",
       "    <tr>\n",
       "      <th>2020-06-24</th>\n",
       "      <td>1.131235</td>\n",
       "      <td>0.002892</td>\n",
       "      <td>1.101794</td>\n",
       "      <td>1.103430</td>\n",
       "      <td>-1</td>\n",
       "      <td>-0.002892</td>\n",
       "      <td>0.921130</td>\n",
       "      <td>1.271272</td>\n",
       "    </tr>\n",
       "    <tr>\n",
       "      <th>2020-06-25</th>\n",
       "      <td>1.125087</td>\n",
       "      <td>-0.005449</td>\n",
       "      <td>1.102486</td>\n",
       "      <td>1.103540</td>\n",
       "      <td>-1</td>\n",
       "      <td>0.005449</td>\n",
       "      <td>0.916125</td>\n",
       "      <td>1.278218</td>\n",
       "    </tr>\n",
       "    <tr>\n",
       "      <th>2020-06-26</th>\n",
       "      <td>1.122208</td>\n",
       "      <td>-0.002562</td>\n",
       "      <td>1.103213</td>\n",
       "      <td>1.103627</td>\n",
       "      <td>-1</td>\n",
       "      <td>0.002562</td>\n",
       "      <td>0.913781</td>\n",
       "      <td>1.281497</td>\n",
       "    </tr>\n",
       "    <tr>\n",
       "      <th>2020-06-29</th>\n",
       "      <td>1.122586</td>\n",
       "      <td>0.000337</td>\n",
       "      <td>1.103931</td>\n",
       "      <td>1.103730</td>\n",
       "      <td>1</td>\n",
       "      <td>-0.000337</td>\n",
       "      <td>0.914089</td>\n",
       "      <td>1.281065</td>\n",
       "    </tr>\n",
       "    <tr>\n",
       "      <th>2020-06-30</th>\n",
       "      <td>1.124720</td>\n",
       "      <td>0.001899</td>\n",
       "      <td>1.104695</td>\n",
       "      <td>1.103857</td>\n",
       "      <td>1</td>\n",
       "      <td>0.001899</td>\n",
       "      <td>0.915826</td>\n",
       "      <td>1.283500</td>\n",
       "    </tr>\n",
       "  </tbody>\n",
       "</table>\n",
       "</div>"
      ],
      "text/plain": [
       "               price   returns     SMA_S     SMA_L  position  strategy  \\\n",
       "Date                                                                     \n",
       "2020-06-24  1.131235  0.002892  1.101794  1.103430        -1 -0.002892   \n",
       "2020-06-25  1.125087 -0.005449  1.102486  1.103540        -1  0.005449   \n",
       "2020-06-26  1.122208 -0.002562  1.103213  1.103627        -1  0.002562   \n",
       "2020-06-29  1.122586  0.000337  1.103931  1.103730         1 -0.000337   \n",
       "2020-06-30  1.124720  0.001899  1.104695  1.103857         1  0.001899   \n",
       "\n",
       "            creturns  cstrategy  \n",
       "Date                             \n",
       "2020-06-24  0.921130   1.271272  \n",
       "2020-06-25  0.916125   1.278218  \n",
       "2020-06-26  0.913781   1.281497  \n",
       "2020-06-29  0.914089   1.281065  \n",
       "2020-06-30  0.915826   1.283500  "
      ]
     },
     "execution_count": 19,
     "metadata": {},
     "output_type": "execute_result"
    }
   ],
   "source": [
    "# Checking the dataframe of our test results\n",
    "tester.results.tail()"
   ]
  },
  {
   "cell_type": "markdown",
   "id": "07c74d33",
   "metadata": {},
   "source": [
    "# Plotting the results\n",
    "1. In many cases a chart is so much more than a bunch of numbers\n",
    "2. Comparing buy and hold returns with our strategy in a visual manner gives dramatic insights into the periods where the outperformance occurred, and whether the outperformance was stable or not"
   ]
  },
  {
   "cell_type": "code",
   "execution_count": 20,
   "id": "8e23d38c",
   "metadata": {},
   "outputs": [],
   "source": [
    "# Plotting the results of our strategy and buy and hold for visual comparison by defining plot_results() method\n",
    "\n",
    "class SMABacktester():\n",
    "    \n",
    "    def __init__(self, symbol, SMA_S, SMA_L, start, end):\n",
    "        self.symbol = symbol\n",
    "        self.SMA_S = SMA_S\n",
    "        self.SMA_L = SMA_L\n",
    "        self.start = start\n",
    "        self.end = end\n",
    "        self.results = None\n",
    "        self.get_data() \n",
    "        \n",
    "        \n",
    "    def get_data(self):\n",
    "        raw = pd.read_csv('forex_pairs.csv', parse_dates = ['Date'], index_col = 'Date')\n",
    "        raw = raw[self.symbol].to_frame().dropna()\n",
    "        raw = raw.loc[self.start : self.end].copy()\n",
    "        raw.rename(columns = {self.symbol : 'price'}, inplace = True)\n",
    "        raw['returns'] = np.log(raw / raw.shift(1))\n",
    "        raw['SMA_S'] = raw['price'].rolling(self.SMA_S).mean()\n",
    "        raw['SMA_L'] = raw['price'].rolling(self.SMA_L).mean()\n",
    "        self.data = raw\n",
    "        return raw\n",
    "    \n",
    "    \n",
    "    def set_parameters(self, SMA_S = None, SMA_L = None):\n",
    "        if SMA_S is not None:\n",
    "            self.SMA_S = SMA_S \n",
    "            self.data['SMA_S'] = self.data['price'].rolling(self.SMA_S).mean() \n",
    "        if SMA_L is not None:\n",
    "            self.SMA_L = SMA_L\n",
    "            self.data['SMA_L'] = self.data['price'].rolling(self.SMA_L).mean()\n",
    "            \n",
    "           \n",
    "    def test_strategy(self):\n",
    "        data = self.data.copy().dropna()\n",
    "        data['position'] = np.where(data['SMA_S'] > data['SMA_L'], 1, -1)\n",
    "        data['strategy'] = data['position'].shift(1) * data['returns']\n",
    "        data.dropna(inplace = True)\n",
    "        data['creturns'] = data['returns'].cumsum().apply(np.exp)\n",
    "        data['cstrategy'] = data['strategy'].cumsum().apply(np.exp)\n",
    "        self.results = data\n",
    "    \n",
    "        perf = data['cstrategy'].iloc[-1] \n",
    "        outperf = perf - data['creturns'].iloc[-1] \n",
    "        return round(perf, 6), round(outperf,6)\n",
    "    \n",
    "    \n",
    "    def plot_results(self):\n",
    "        if self.results is None:\n",
    "            # if-else statement needs to be created because in dunder init method, self_results is None \n",
    "            print('Run test_strategy() first.')\n",
    "            # if we do not have any backtesting results, this statement would prompt user to run test_strategy() method\n",
    "            \n",
    "        else:\n",
    "            title = '{} | SMA_S = {} | SMA_L = {}'.format(self.symbol, self.SMA_S, self.SMA_L)\n",
    "            # creating a meaningful title\n",
    "            self.results[['creturns', 'cstrategy']].plot(title = title, figsize = (12,8))\n",
    "            # selecting returns dataframe and plotting creturns and cstrategy"
   ]
  },
  {
   "cell_type": "code",
   "execution_count": 21,
   "id": "3c624e4e",
   "metadata": {},
   "outputs": [],
   "source": [
    "# creating an instance of the class to see if plot_results() method works\n",
    "tester = SMABacktester('EURUSD=X', 50, 200, '2004-01-01', '2020-06-30')"
   ]
  },
  {
   "cell_type": "code",
   "execution_count": 22,
   "id": "62674870",
   "metadata": {},
   "outputs": [
    {
     "name": "stdout",
     "output_type": "stream",
     "text": [
      "Run test_strategy() first.\n"
     ]
    }
   ],
   "source": [
    "# plotting results\n",
    "tester.plot_results()"
   ]
  },
  {
   "cell_type": "code",
   "execution_count": 23,
   "id": "b86a6f7f",
   "metadata": {},
   "outputs": [
    {
     "data": {
      "text/plain": [
       "(1.2835, 0.367674)"
      ]
     },
     "execution_count": 23,
     "metadata": {},
     "output_type": "execute_result"
    }
   ],
   "source": [
    "# Running test_strategy()\n",
    "tester.test_strategy()"
   ]
  },
  {
   "cell_type": "code",
   "execution_count": 24,
   "id": "214d9134",
   "metadata": {},
   "outputs": [
    {
     "data": {
      "image/png": "[encoded data removed]",
      "text/plain": [
       "<Figure size 864x576 with 1 Axes>"
      ]
     },
     "metadata": {},
     "output_type": "display_data"
    }
   ],
   "source": [
    "# attempting to plot results again\n",
    "tester.plot_results()"
   ]
  },
  {
   "cell_type": "markdown",
   "id": "106daade",
   "metadata": {},
   "source": [
    "1. The usefulness of plotting strategy returns is clear from the above plot. \n",
    "2. We can see that a major chunk of our strategy's outperformance happened after 2015.\n",
    "3. Before 2015, our strategy barely beat buy and hold strategy\n",
    "4. It turns out that 50, 200 SMA crossover was not really consistent in beating buy and hold"
   ]
  },
  {
   "cell_type": "markdown",
   "id": "ab7e32ae",
   "metadata": {},
   "source": [
    "# Strategy Optimisation\n",
    "1. Optimising parameters allows us to find the best performing combination of SMA_S and SMA_L\n",
    "2. All the combinations in a defined range would be tested for best performing pair"
   ]
  },
  {
   "cell_type": "code",
   "execution_count": 25,
   "id": "032f5c81",
   "metadata": {},
   "outputs": [],
   "source": [
    "# defining optimize_parameters method to find best performing SMA_S and SMA_L combination\n",
    "\n",
    "class SMABacktester():\n",
    "    \n",
    "    def __init__(self, symbol, SMA_S, SMA_L, start, end):\n",
    "        self.symbol = symbol\n",
    "        self.SMA_S = SMA_S\n",
    "        self.SMA_L = SMA_L\n",
    "        self.start = start\n",
    "        self.end = end\n",
    "        self.results = None\n",
    "        self.get_data() \n",
    "        \n",
    "        \n",
    "    def get_data(self):\n",
    "        raw = pd.read_csv('forex_pairs.csv', parse_dates = ['Date'], index_col = 'Date')\n",
    "        raw = raw[self.symbol].to_frame().dropna()\n",
    "        raw = raw.loc[self.start : self.end].copy()\n",
    "        raw.rename(columns = {self.symbol : 'price'}, inplace = True)\n",
    "        raw['returns'] = np.log(raw / raw.shift(1))\n",
    "        raw['SMA_S'] = raw['price'].rolling(self.SMA_S).mean()\n",
    "        raw['SMA_L'] = raw['price'].rolling(self.SMA_L).mean()\n",
    "        self.data = raw\n",
    "        return raw\n",
    "    \n",
    "    \n",
    "    def set_parameters(self, SMA_S = None, SMA_L = None):\n",
    "        if SMA_S is not None:\n",
    "            self.SMA_S = SMA_S \n",
    "            self.data['SMA_S'] = self.data['price'].rolling(self.SMA_S).mean() \n",
    "        if SMA_L is not None:\n",
    "            self.SMA_L = SMA_L\n",
    "            self.data['SMA_L'] = self.data['price'].rolling(self.SMA_L).mean()\n",
    "            \n",
    "           \n",
    "    def test_strategy(self):\n",
    "        data = self.data.copy().dropna()\n",
    "        data['position'] = np.where(data['SMA_S'] > data['SMA_L'], 1, -1)\n",
    "        data['strategy'] = data['position'].shift(1) * data['returns']\n",
    "        data.dropna(inplace = True)\n",
    "        data['creturns'] = data['returns'].cumsum().apply(np.exp)\n",
    "        data['cstrategy'] = data['strategy'].cumsum().apply(np.exp)\n",
    "        self.results = data\n",
    "    \n",
    "        perf = data['cstrategy'].iloc[-1] \n",
    "        outperf = perf - data['creturns'].iloc[-1] \n",
    "        return round(perf, 6), round(outperf,6)\n",
    "    \n",
    "    \n",
    "    def plot_results(self):\n",
    "        if self.results is None:\n",
    "            print('Run test_strategy() first.')\n",
    "        else:\n",
    "            title = '{} | SMA_S = {} | SMA_L = {}'.format(self.symbol, self.SMA_S, self.SMA_L)\n",
    "            self.results[['creturns', 'cstrategy']].plot(title = title, figsize = (12,8))\n",
    "            \n",
    "            \n",
    "    def optimize_parameters(self, SMA_S_range, SMA_L_range):\n",
    "        # as arguments we need to pass ranges for SMA_S and SMA_L as tuples. Each tuple contains start,end,step \n",
    "        combinations = list(product(range(*SMA_S_range), range(*SMA_L_range)))\n",
    "        # getting all possible combinations with product from itertools. Unpack tuples with * expression and create range\n",
    "        # objects. Product combines both range objects. A list is then created and saved in a variable combinations\n",
    "      \n",
    "        results = []\n",
    "        for comb in combinations:\n",
    "            self.set_parameters(comb[0], comb[1])\n",
    "            # testing all combinations by iterating over combinations. each combination of SMA_S and SMA_L is passed \n",
    "            # through set paramters. \n",
    "            results.append(self.test_strategy()[0])\n",
    "            # we are only interested in the performance of the strategy. that's what [0] is for. Each performance is\n",
    "            # then appended to results list created above\n",
    "            \n",
    "        best_perf = np.max(results) \n",
    "        # best performance is found using np.max and saved under variable best_perf\n",
    "        opt = combinations[np.argmax(results)] \n",
    "        # optimal parameters are calculated and saved under variable opt\n",
    "        \n",
    "        # run/set the optimal strategy\n",
    "        self.set_parameters(opt[0], opt[1])\n",
    "        self.test_strategy()\n",
    "        # this is necessary to plot the optimal strategy with plot_results()\n",
    "        \n",
    "        # creating a dataframe with many results\n",
    "        many_results = pd.DataFrame(data = combinations, columns = ['SMA_S', 'SMA_L'])\n",
    "        many_results['performance'] = results\n",
    "        self.results_overview = many_results\n",
    "        \n",
    "        return opt, best_perf"
   ]
  },
  {
   "cell_type": "code",
   "execution_count": 26,
   "id": "ffa7cbd5",
   "metadata": {},
   "outputs": [],
   "source": [
    "# creating an instance of the class to see if optimise_parameters method works\n",
    "tester = SMABacktester('EURUSD=X', 50, 200, '2004-01-01', '2020-06-30')"
   ]
  },
  {
   "cell_type": "code",
   "execution_count": 27,
   "id": "58fea238",
   "metadata": {},
   "outputs": [],
   "source": [
    "# using test_strategy() to get absolute performance"
   ]
  },
  {
   "cell_type": "code",
   "execution_count": 28,
   "id": "afa18098",
   "metadata": {},
   "outputs": [
    {
     "data": {
      "text/plain": [
       "((46, 137), 2.526694)"
      ]
     },
     "execution_count": 28,
     "metadata": {},
     "output_type": "execute_result"
    }
   ],
   "source": [
    "# optimising our strategy and setting ranges as tuples for SMA_S as (10,50) and for SMA_L as (100-252) with step 1\n",
    "tester.optimize_parameters((10,50,1), (100,252,1))"
   ]
  },
  {
   "cell_type": "code",
   "execution_count": 29,
   "id": "f58a9c12",
   "metadata": {},
   "outputs": [],
   "source": [
    "# optimize_parameters() returns 46,137 as SMA_S, SMA_L pair with highest absolute performance"
   ]
  },
  {
   "cell_type": "code",
   "execution_count": 30,
   "id": "4835de72",
   "metadata": {},
   "outputs": [
    {
     "data": {
      "image/png": "[encoded data removed]",
      "text/plain": [
       "<Figure size 864x576 with 1 Axes>"
      ]
     },
     "metadata": {},
     "output_type": "display_data"
    }
   ],
   "source": [
    "# plotting results for the optimised parameters\n",
    "tester.plot_results()"
   ]
  },
  {
   "cell_type": "code",
   "execution_count": 31,
   "id": "606e7644",
   "metadata": {},
   "outputs": [
    {
     "data": {
      "text/html": [
       "<div>\n",
       "<style scoped>\n",
       "    .dataframe tbody tr th:only-of-type {\n",
       "        vertical-align: middle;\n",
       "    }\n",
       "\n",
       "    .dataframe tbody tr th {\n",
       "        vertical-align: top;\n",
       "    }\n",
       "\n",
       "    .dataframe thead th {\n",
       "        text-align: right;\n",
       "    }\n",
       "</style>\n",
       "<table border=\"1\" class=\"dataframe\">\n",
       "  <thead>\n",
       "    <tr style=\"text-align: right;\">\n",
       "      <th></th>\n",
       "      <th>SMA_S</th>\n",
       "      <th>SMA_L</th>\n",
       "      <th>performance</th>\n",
       "    </tr>\n",
       "  </thead>\n",
       "  <tbody>\n",
       "    <tr>\n",
       "      <th>5509</th>\n",
       "      <td>46</td>\n",
       "      <td>137</td>\n",
       "      <td>2.526694</td>\n",
       "    </tr>\n",
       "    <tr>\n",
       "      <th>5660</th>\n",
       "      <td>47</td>\n",
       "      <td>136</td>\n",
       "      <td>2.513588</td>\n",
       "    </tr>\n",
       "    <tr>\n",
       "      <th>5356</th>\n",
       "      <td>45</td>\n",
       "      <td>136</td>\n",
       "      <td>2.490511</td>\n",
       "    </tr>\n",
       "    <tr>\n",
       "      <th>5507</th>\n",
       "      <td>46</td>\n",
       "      <td>135</td>\n",
       "      <td>2.464982</td>\n",
       "    </tr>\n",
       "    <tr>\n",
       "      <th>4283</th>\n",
       "      <td>38</td>\n",
       "      <td>127</td>\n",
       "      <td>2.455225</td>\n",
       "    </tr>\n",
       "    <tr>\n",
       "      <th>5963</th>\n",
       "      <td>49</td>\n",
       "      <td>135</td>\n",
       "      <td>2.447218</td>\n",
       "    </tr>\n",
       "    <tr>\n",
       "      <th>5661</th>\n",
       "      <td>47</td>\n",
       "      <td>137</td>\n",
       "      <td>2.439993</td>\n",
       "    </tr>\n",
       "    <tr>\n",
       "      <th>5811</th>\n",
       "      <td>48</td>\n",
       "      <td>135</td>\n",
       "      <td>2.439185</td>\n",
       "    </tr>\n",
       "    <tr>\n",
       "      <th>5508</th>\n",
       "      <td>46</td>\n",
       "      <td>136</td>\n",
       "      <td>2.432296</td>\n",
       "    </tr>\n",
       "    <tr>\n",
       "      <th>4284</th>\n",
       "      <td>38</td>\n",
       "      <td>128</td>\n",
       "      <td>2.427431</td>\n",
       "    </tr>\n",
       "  </tbody>\n",
       "</table>\n",
       "</div>"
      ],
      "text/plain": [
       "      SMA_S  SMA_L  performance\n",
       "5509     46    137     2.526694\n",
       "5660     47    136     2.513588\n",
       "5356     45    136     2.490511\n",
       "5507     46    135     2.464982\n",
       "4283     38    127     2.455225\n",
       "5963     49    135     2.447218\n",
       "5661     47    137     2.439993\n",
       "5811     48    135     2.439185\n",
       "5508     46    136     2.432296\n",
       "4284     38    128     2.427431"
      ]
     },
     "execution_count": 31,
     "metadata": {},
     "output_type": "execute_result"
    }
   ],
   "source": [
    "# Checking the top 10 best performing SMA_S, SMA_L pairs\n",
    "tester.results_overview.nlargest(10, 'performance')"
   ]
  },
  {
   "cell_type": "markdown",
   "id": "1a17e771",
   "metadata": {},
   "source": [
    "# Splitting get_data() and adding prepare_data()\n",
    "1. When working with more complex strategies, it makes sense to separate the basic workflows in the get_data() method from the strategy specific workflows.\n",
    "2. Adding SMA_S and SMA_L are specific for the SMA crossover strategy\n",
    "3. Basic workflows in get_data() are the same irrespective of the strategy being employed\n",
    "4. Separating the workflows like this, enhances the readability of our code\n",
    "5. If we separate workflows, then any strategy changes could be smoothly achieved by modifying prepare_data() method"
   ]
  },
  {
   "cell_type": "code",
   "execution_count": 32,
   "id": "6916744b",
   "metadata": {},
   "outputs": [],
   "source": [
    "# defining prepare_data() method and splitting get_data() method\n",
    "\n",
    "class SMABacktester():\n",
    "    \n",
    "    def __init__(self, symbol, SMA_S, SMA_L, start, end):\n",
    "        self.symbol = symbol\n",
    "        self.SMA_S = SMA_S\n",
    "        self.SMA_L = SMA_L\n",
    "        self.start = start\n",
    "        self.end = end\n",
    "        self.results = None\n",
    "        self.get_data()\n",
    "        self.prepare_data() # running prepare_data() in dunder init method to enable its calling at instantiation stage\n",
    "        \n",
    "        \n",
    "    def get_data(self):\n",
    "        raw = pd.read_csv('forex_pairs.csv', parse_dates = ['Date'], index_col = 'Date')\n",
    "        raw = raw[self.symbol].to_frame().dropna()\n",
    "        raw = raw.loc[self.start : self.end].copy()\n",
    "        raw.rename(columns = {self.symbol : 'price'}, inplace = True)\n",
    "        raw['returns'] = np.log(raw / raw.shift(1))\n",
    "        self.data = raw\n",
    "    \n",
    "    \n",
    "    def prepare_data(self):\n",
    "        data = self.data.copy()\n",
    "        # creating a copy of data to avoid overwriting\n",
    "        data['SMA_S'] = data['price'].rolling(self.SMA_S).mean()\n",
    "        data['SMA_L'] = data['price'].rolling(self.SMA_L).mean()\n",
    "        self.data = data\n",
    "        # overwriting self.data\n",
    "    \n",
    "    def set_parameters(self, SMA_S = None, SMA_L = None):\n",
    "        if SMA_S is not None:\n",
    "            self.SMA_S = SMA_S \n",
    "            self.data['SMA_S'] = self.data['price'].rolling(self.SMA_S).mean() \n",
    "        if SMA_L is not None:\n",
    "            self.SMA_L = SMA_L\n",
    "            self.data['SMA_L'] = self.data['price'].rolling(self.SMA_L).mean()\n",
    "            \n",
    "           \n",
    "    def test_strategy(self):\n",
    "        data = self.data.copy().dropna()\n",
    "        data['position'] = np.where(data['SMA_S'] > data['SMA_L'], 1, -1)\n",
    "        data['strategy'] = data['position'].shift(1) * data['returns']\n",
    "        data.dropna(inplace = True)\n",
    "        data['creturns'] = data['returns'].cumsum().apply(np.exp)\n",
    "        data['cstrategy'] = data['strategy'].cumsum().apply(np.exp)\n",
    "        self.results = data\n",
    "    \n",
    "        perf = data['cstrategy'].iloc[-1] \n",
    "        outperf = perf - data['creturns'].iloc[-1] \n",
    "        return round(perf, 6), round(outperf,6)\n",
    "    \n",
    "    \n",
    "    def plot_results(self):\n",
    "        if self.results is None:\n",
    "            print('Run test_strategy() first.')\n",
    "        else:\n",
    "            title = '{} | SMA_S = {} | SMA_L = {}'.format(self.symbol, self.SMA_S, self.SMA_L)\n",
    "            self.results[['creturns', 'cstrategy']].plot(title = title, figsize = (12,8))\n",
    "            \n",
    "            \n",
    "    def optimize_parameters(self, SMA_S_range, SMA_L_range):\n",
    "        combinations = list(product(range(*SMA_S_range), range(*SMA_L_range)))\n",
    "      \n",
    "        results = []\n",
    "        for comb in combinations:\n",
    "            self.set_parameters(comb[0], comb[1])\n",
    "            results.append(self.test_strategy()[0])\n",
    "            \n",
    "        best_perf = np.max(results) \n",
    "        opt = combinations[np.argmax(results)] \n",
    "    \n",
    "        self.set_parameters(opt[0], opt[1])\n",
    "        self.test_strategy()\n",
    "      \n",
    "        many_results = pd.DataFrame(data = combinations, columns = ['SMA_S', 'SMA_L'])\n",
    "        many_results['performance'] = results\n",
    "        self.results_overview = many_results\n",
    "        \n",
    "        return opt, best_perf"
   ]
  },
  {
   "cell_type": "code",
   "execution_count": 33,
   "id": "2364dc85",
   "metadata": {},
   "outputs": [],
   "source": [
    "# creating an instance of the class to see if prepare_data() method works\n",
    "tester = SMABacktester('EURUSD=X', 50, 200, '2004-01-01', '2020-06-30')"
   ]
  },
  {
   "cell_type": "code",
   "execution_count": 34,
   "id": "41edcb59",
   "metadata": {},
   "outputs": [
    {
     "data": {
      "text/html": [
       "<div>\n",
       "<style scoped>\n",
       "    .dataframe tbody tr th:only-of-type {\n",
       "        vertical-align: middle;\n",
       "    }\n",
       "\n",
       "    .dataframe tbody tr th {\n",
       "        vertical-align: top;\n",
       "    }\n",
       "\n",
       "    .dataframe thead th {\n",
       "        text-align: right;\n",
       "    }\n",
       "</style>\n",
       "<table border=\"1\" class=\"dataframe\">\n",
       "  <thead>\n",
       "    <tr style=\"text-align: right;\">\n",
       "      <th></th>\n",
       "      <th>price</th>\n",
       "      <th>returns</th>\n",
       "      <th>SMA_S</th>\n",
       "      <th>SMA_L</th>\n",
       "    </tr>\n",
       "    <tr>\n",
       "      <th>Date</th>\n",
       "      <th></th>\n",
       "      <th></th>\n",
       "      <th></th>\n",
       "      <th></th>\n",
       "    </tr>\n",
       "  </thead>\n",
       "  <tbody>\n",
       "    <tr>\n",
       "      <th>2020-06-24</th>\n",
       "      <td>1.131235</td>\n",
       "      <td>0.002892</td>\n",
       "      <td>1.101794</td>\n",
       "      <td>1.103430</td>\n",
       "    </tr>\n",
       "    <tr>\n",
       "      <th>2020-06-25</th>\n",
       "      <td>1.125087</td>\n",
       "      <td>-0.005449</td>\n",
       "      <td>1.102486</td>\n",
       "      <td>1.103540</td>\n",
       "    </tr>\n",
       "    <tr>\n",
       "      <th>2020-06-26</th>\n",
       "      <td>1.122208</td>\n",
       "      <td>-0.002562</td>\n",
       "      <td>1.103213</td>\n",
       "      <td>1.103627</td>\n",
       "    </tr>\n",
       "    <tr>\n",
       "      <th>2020-06-29</th>\n",
       "      <td>1.122586</td>\n",
       "      <td>0.000337</td>\n",
       "      <td>1.103931</td>\n",
       "      <td>1.103730</td>\n",
       "    </tr>\n",
       "    <tr>\n",
       "      <th>2020-06-30</th>\n",
       "      <td>1.124720</td>\n",
       "      <td>0.001899</td>\n",
       "      <td>1.104695</td>\n",
       "      <td>1.103857</td>\n",
       "    </tr>\n",
       "  </tbody>\n",
       "</table>\n",
       "</div>"
      ],
      "text/plain": [
       "               price   returns     SMA_S     SMA_L\n",
       "Date                                              \n",
       "2020-06-24  1.131235  0.002892  1.101794  1.103430\n",
       "2020-06-25  1.125087 -0.005449  1.102486  1.103540\n",
       "2020-06-26  1.122208 -0.002562  1.103213  1.103627\n",
       "2020-06-29  1.122586  0.000337  1.103931  1.103730\n",
       "2020-06-30  1.124720  0.001899  1.104695  1.103857"
      ]
     },
     "execution_count": 34,
     "metadata": {},
     "output_type": "execute_result"
    }
   ],
   "source": [
    "# Checking if data retrieval works\n",
    "tester.data.tail()"
   ]
  },
  {
   "cell_type": "code",
   "execution_count": 35,
   "id": "89e9df07",
   "metadata": {},
   "outputs": [
    {
     "data": {
      "text/plain": [
       "(1.2835, 0.367674)"
      ]
     },
     "execution_count": 35,
     "metadata": {},
     "output_type": "execute_result"
    }
   ],
   "source": [
    "# testing strategy\n",
    "tester.test_strategy()"
   ]
  },
  {
   "cell_type": "code",
   "execution_count": 36,
   "id": "e7f1548a",
   "metadata": {},
   "outputs": [],
   "source": [
    "# Although the difference is not visible, separating the workflows has enhanced readability of our code"
   ]
  },
  {
   "cell_type": "markdown",
   "id": "d41935df",
   "metadata": {},
   "source": [
    "# String Representation and Docstrings\n",
    "1. These are cosmetic improvements, but they are invaluable for uninformed users of this class.\n",
    "2. This step must not be skipped.\n",
    "3. Proper docstrings and meaningful string representation can improve the usability of class.\n",
    "4. The key words are CONCISE and INTUITIVE."
   ]
  },
  {
   "cell_type": "code",
   "execution_count": 37,
   "id": "0a9b3dab",
   "metadata": {},
   "outputs": [],
   "source": [
    "# Adding docstrings and string representation to our SMABacktester class\n",
    "\n",
    "class SMABacktester():\n",
    "    ''' Class for Vectorised backtesting of SMA-based trading strategies.\n",
    "    '''\n",
    "    \n",
    "    def __init__(self, symbol, SMA_S, SMA_L, start, end):\n",
    "        '''\n",
    "        Parameters\n",
    "        ----------\n",
    "        symbol: str\n",
    "            ticker symbol (instrument) to be backtested\n",
    "        SMA_S: int\n",
    "            moving window in bars (e.g. days) for shorter SMA\n",
    "        SMA_L: int\n",
    "            moving window in bars (e.g. days) for longer SMA\n",
    "        start: str\n",
    "            start date for data import\n",
    "        end: str\n",
    "            end date for data import\n",
    "        '''\n",
    "        self.symbol = symbol\n",
    "        self.SMA_S = SMA_S\n",
    "        self.SMA_L = SMA_L\n",
    "        self.start = start\n",
    "        self.end = end\n",
    "        self.results = None\n",
    "        self.get_data()\n",
    "        self.prepare_data()\n",
    "        \n",
    "        \n",
    "    def __repr__(self):\n",
    "        return \"SMABacktester(symbol = {}, SMA_S = {}, SMA_L = {}, start = {}, end = {})\".format(self.symbol, \n",
    "                                                                self.SMA_S, self.SMA_L, self.start, self.end)\n",
    "        \n",
    "        \n",
    "    def get_data(self):\n",
    "        ''' Imports the data from forex_pairs.csv (source can be changed).\n",
    "        '''\n",
    "        raw = pd.read_csv('forex_pairs.csv', parse_dates = ['Date'], index_col = 'Date')\n",
    "        raw = raw[self.symbol].to_frame().dropna()\n",
    "        raw = raw.loc[self.start : self.end].copy()\n",
    "        raw.rename(columns = {self.symbol : 'price'}, inplace = True)\n",
    "        raw['returns'] = np.log(raw / raw.shift(1))\n",
    "        self.data = raw\n",
    "    \n",
    "    \n",
    "    def prepare_data(self):\n",
    "        ''' Prepares the data for strategy backtesting (strategy-specific).\n",
    "        '''\n",
    "        data = self.data.copy()\n",
    "        data['SMA_S'] = data['price'].rolling(self.SMA_S).mean()\n",
    "        data['SMA_L'] = data['price'].rolling(self.SMA_L).mean()\n",
    "        self.data = data\n",
    "    \n",
    "    def set_parameters(self, SMA_S = None, SMA_L = None):\n",
    "        ''' Updates SMA parameters and the prepared dataset.\n",
    "        '''\n",
    "        if SMA_S is not None:\n",
    "            self.SMA_S = SMA_S \n",
    "            self.data['SMA_S'] = self.data['price'].rolling(self.SMA_S).mean() \n",
    "        if SMA_L is not None:\n",
    "            self.SMA_L = SMA_L\n",
    "            self.data['SMA_L'] = self.data['price'].rolling(self.SMA_L).mean()\n",
    "            \n",
    "           \n",
    "    def test_strategy(self):\n",
    "        ''' Backtests the SMA-based trading strategy.\n",
    "        '''\n",
    "        data = self.data.copy().dropna()\n",
    "        data['position'] = np.where(data['SMA_S'] > data['SMA_L'], 1, -1)\n",
    "        data['strategy'] = data['position'].shift(1) * data['returns']\n",
    "        data.dropna(inplace = True)\n",
    "        data['creturns'] = data['returns'].cumsum().apply(np.exp)\n",
    "        data['cstrategy'] = data['strategy'].cumsum().apply(np.exp)\n",
    "        self.results = data\n",
    "    \n",
    "        perf = data['cstrategy'].iloc[-1] \n",
    "        outperf = perf - data['creturns'].iloc[-1] \n",
    "        return round(perf, 6), round(outperf,6)\n",
    "    \n",
    "    \n",
    "    def plot_results(self):\n",
    "        ''' Plots the performance of trading strategy and compares to 'buy and hold'.\n",
    "        '''\n",
    "        if self.results is None:\n",
    "            print('Run test_strategy() first.')\n",
    "        else:\n",
    "            title = '{} | SMA_S = {} | SMA_L = {}'.format(self.symbol, self.SMA_S, self.SMA_L)\n",
    "            self.results[['creturns', 'cstrategy']].plot(title = title, figsize = (12,8))\n",
    "            \n",
    "            \n",
    "    def optimize_parameters(self, SMA_S_range, SMA_L_range):\n",
    "        ''' Finds the optimal strategy (global maximum) given the SMA parameter ranges.\n",
    "        \n",
    "        Parameters\n",
    "        ----------\n",
    "        SMA_S_range, SMA_L_range: tuple\n",
    "            tuples of the form (start, end, step size)\n",
    "        '''\n",
    "        combinations = list(product(range(*SMA_S_range), range(*SMA_L_range)))\n",
    "      \n",
    "        results = []\n",
    "        for comb in combinations:\n",
    "            self.set_parameters(comb[0], comb[1])\n",
    "            results.append(self.test_strategy()[0])\n",
    "            \n",
    "        best_perf = np.max(results) \n",
    "        opt = combinations[np.argmax(results)] \n",
    "    \n",
    "        self.set_parameters(opt[0], opt[1])\n",
    "        self.test_strategy()\n",
    "      \n",
    "        many_results = pd.DataFrame(data = combinations, columns = ['SMA_S', 'SMA_L'])\n",
    "        many_results['performance'] = results\n",
    "        self.results_overview = many_results\n",
    "        \n",
    "        return opt, best_perf"
   ]
  },
  {
   "cell_type": "code",
   "execution_count": 38,
   "id": "1e81d64e",
   "metadata": {},
   "outputs": [],
   "source": [
    "# creating an instance of the class to see if our docstrings have been updated\n",
    "tester = SMABacktester('EURUSD=X', 50, 200, '2004-01-01', '2020-06-30')"
   ]
  },
  {
   "cell_type": "code",
   "execution_count": 39,
   "id": "54e07f7c",
   "metadata": {},
   "outputs": [
    {
     "data": {
      "text/plain": [
       "SMABacktester(symbol = EURUSD=X, SMA_S = 50, SMA_L = 200, start = 2004-01-01, end = 2020-06-30)"
      ]
     },
     "execution_count": 39,
     "metadata": {},
     "output_type": "execute_result"
    }
   ],
   "source": [
    "# description of tester\n",
    "tester"
   ]
  },
  {
   "cell_type": "code",
   "execution_count": 40,
   "id": "220cf773",
   "metadata": {},
   "outputs": [
    {
     "ename": "TypeError",
     "evalue": "optimize_parameters() missing 2 required positional arguments: 'SMA_S_range' and 'SMA_L_range'",
     "output_type": "error",
     "traceback": [
      "\u001b[1;31m---------------------------------------------------------------------------\u001b[0m",
      "\u001b[1;31mTypeError\u001b[0m                                 Traceback (most recent call last)",
      "\u001b[1;32m~\\AppData\\Local\\Temp/ipykernel_4204/2941767682.py\u001b[0m in \u001b[0;36m<module>\u001b[1;34m\u001b[0m\n\u001b[0;32m      1\u001b[0m \u001b[1;31m# checking documentation for optimize_parameter\u001b[0m\u001b[1;33m\u001b[0m\u001b[1;33m\u001b[0m\u001b[1;33m\u001b[0m\u001b[0m\n\u001b[1;32m----> 2\u001b[1;33m \u001b[0mtester\u001b[0m\u001b[1;33m.\u001b[0m\u001b[0moptimize_parameters\u001b[0m\u001b[1;33m(\u001b[0m\u001b[1;33m)\u001b[0m\u001b[1;33m\u001b[0m\u001b[1;33m\u001b[0m\u001b[0m\n\u001b[0m",
      "\u001b[1;31mTypeError\u001b[0m: optimize_parameters() missing 2 required positional arguments: 'SMA_S_range' and 'SMA_L_range'"
     ]
    }
   ],
   "source": [
    "# checking documentation for optimize_parameter\n",
    "tester.optimize_parameters()"
   ]
  }
 ],
 "metadata": {
  "kernelspec": {
   "display_name": "Python 3 (ipykernel)",
   "language": "python",
   "name": "python3"
  },
  "language_info": {
   "codemirror_mode": {
    "name": "ipython",
    "version": 3
   },
   "file_extension": ".py",
   "mimetype": "text/x-python",
   "name": "python",
   "nbconvert_exporter": "python",
   "pygments_lexer": "ipython3",
   "version": "3.8.11"
  }
 },
 "nbformat": 4,
 "nbformat_minor": 5
}
